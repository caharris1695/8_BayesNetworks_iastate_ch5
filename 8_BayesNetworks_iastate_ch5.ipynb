{
  "nbformat": 4,
  "nbformat_minor": 0,
  "metadata": {
    "colab": {
      "name": "8_BayesNetworks_iastate_ch5.ipynb",
      "provenance": [],
      "collapsed_sections": []
    },
    "kernelspec": {
      "name": "python3",
      "display_name": "Python 3"
    }
  },
  "cells": [
    {
      "cell_type": "code",
      "metadata": {
        "id": "I6JBuTmOzUJZ"
      },
      "source": [
        "# Dataset Name: UCLA Textbook Dataset\n",
        "# Dataset Location: http://web.cs.iastate.edu/~jtian/cs673/cs673_spring05/lectures/cs262a-5.pdf\n",
        "# Date Started: 11/16/2020\n",
        "# Algorithm: Bayesian Networks\n",
        "\n",
        "# Goal: Learn Variable Elimination from PGMPY ... Implement custom class on given dataset\n",
        "\n",
        "# Attribute Information:\n",
        "# Winter; true, false\n",
        "# Sprinkler; true, false\n",
        "# Rainy; true, false\n",
        "# Wet Grass; true, false\n",
        "# Slippery Road; true, false"
      ],
      "execution_count": 33,
      "outputs": []
    },
    {
      "cell_type": "code",
      "metadata": {
        "id": "o7NXbN2T2vRl",
        "colab": {
          "base_uri": "https://localhost:8080/"
        },
        "outputId": "a2e2751e-6e84-47bc-c47b-94b9c4043407"
      },
      "source": [
        "# Imports for Probablistic graphical models and Bayesian Networks\n",
        "import networkx as nx\n",
        "import pylab\n",
        "!pip install pgmpy\n",
        "from pgmpy.models import BayesianModel\n",
        "from pgmpy.factors.discrete import TabularCPD\n",
        "from pgmpy.inference import VariableElimination\n",
        "\n",
        "# How the progress bar is done\n",
        "from tqdm import trange\n",
        "\n",
        "# Standard Machine Learning Imports\n",
        "import pandas as pd\n",
        "import numpy as np\n",
        "import matplotlib.pyplot as plt\n",
        "import seaborn as sns\n",
        "from sklearn.utils import shuffle"
      ],
      "execution_count": 34,
      "outputs": [
        {
          "output_type": "stream",
          "text": [
            "Requirement already satisfied: pgmpy in /usr/local/lib/python3.6/dist-packages (0.1.12)\n",
            "Requirement already satisfied: joblib in /usr/local/lib/python3.6/dist-packages (from pgmpy) (0.17.0)\n",
            "Requirement already satisfied: pyparsing in /usr/local/lib/python3.6/dist-packages (from pgmpy) (2.4.7)\n",
            "Requirement already satisfied: statsmodels in /usr/local/lib/python3.6/dist-packages (from pgmpy) (0.10.2)\n",
            "Requirement already satisfied: scikit-learn in /usr/local/lib/python3.6/dist-packages (from pgmpy) (0.22.2.post1)\n",
            "Requirement already satisfied: pandas in /usr/local/lib/python3.6/dist-packages (from pgmpy) (1.1.4)\n",
            "Requirement already satisfied: tqdm in /usr/local/lib/python3.6/dist-packages (from pgmpy) (4.41.1)\n",
            "Requirement already satisfied: networkx in /usr/local/lib/python3.6/dist-packages (from pgmpy) (2.5)\n",
            "Requirement already satisfied: numpy in /usr/local/lib/python3.6/dist-packages (from pgmpy) (1.18.5)\n",
            "Requirement already satisfied: scipy in /usr/local/lib/python3.6/dist-packages (from pgmpy) (1.4.1)\n",
            "Requirement already satisfied: torch in /usr/local/lib/python3.6/dist-packages (from pgmpy) (1.7.0+cu101)\n",
            "Requirement already satisfied: patsy>=0.4.0 in /usr/local/lib/python3.6/dist-packages (from statsmodels->pgmpy) (0.5.1)\n",
            "Requirement already satisfied: pytz>=2017.2 in /usr/local/lib/python3.6/dist-packages (from pandas->pgmpy) (2018.9)\n",
            "Requirement already satisfied: python-dateutil>=2.7.3 in /usr/local/lib/python3.6/dist-packages (from pandas->pgmpy) (2.8.1)\n",
            "Requirement already satisfied: decorator>=4.3.0 in /usr/local/lib/python3.6/dist-packages (from networkx->pgmpy) (4.4.2)\n",
            "Requirement already satisfied: typing-extensions in /usr/local/lib/python3.6/dist-packages (from torch->pgmpy) (3.7.4.3)\n",
            "Requirement already satisfied: dataclasses in /usr/local/lib/python3.6/dist-packages (from torch->pgmpy) (0.7)\n",
            "Requirement already satisfied: future in /usr/local/lib/python3.6/dist-packages (from torch->pgmpy) (0.16.0)\n",
            "Requirement already satisfied: six in /usr/local/lib/python3.6/dist-packages (from patsy>=0.4.0->statsmodels->pgmpy) (1.15.0)\n"
          ],
          "name": "stdout"
        }
      ]
    },
    {
      "cell_type": "code",
      "metadata": {
        "id": "g7LVvlCe167v"
      },
      "source": [
        "# Type the edges/CPT \n",
        "edges = [(\"winter\",\"rain\"),(\"winter\",\"sprinkler\"),(\"sprinkler\",\"wet grass\"),(\"rain\", \"wet grass\"),(\"rain\", \"slippery road\")]"
      ],
      "execution_count": 35,
      "outputs": []
    },
    {
      "cell_type": "code",
      "metadata": {
        "id": "mBbrX9dU0JIs",
        "colab": {
          "base_uri": "https://localhost:8080/",
          "height": 319
        },
        "outputId": "fe521f14-55d3-4132-ee8f-29d8693862f6"
      },
      "source": [
        "# Draw the Model\n",
        "nx.draw(nx.DiGraph(edges),arrowsize=20, with_labels=True)\n",
        "pylab.show()"
      ],
      "execution_count": 36,
      "outputs": [
        {
          "output_type": "display_data",
          "data": {
            "image/png": "[encoded data removed]",
            "text/plain": [
              "<Figure size 432x288 with 1 Axes>"
            ]
          },
          "metadata": {
            "tags": []
          }
        }
      ]
    },
    {
      "cell_type": "code",
      "metadata": {
        "id": "pjSv8nXp2uN9"
      },
      "source": [
        "# Create all the Conditional Probability Tables from the textbook example \n",
        "winter_cpd = TabularCPD('winter',2,[[0.6],\n",
        "                                    [0.4]], state_names={\"winter\": [True, False]})\n",
        "sprinkler_given_winter_cpd = TabularCPD('sprinkler',2,[[0.2,0.75],\n",
        "                                                       [0.8,0.25]],\n",
        "                                                       evidence=['winter'], evidence_card=[2], \n",
        "                                                       state_names={\"sprinkler\": [True, False], \"winter\": [True, False]})\n",
        "rain_given_winter_cpd = TabularCPD('rain',2,[[0.8,0.1],\n",
        "                                             [0.2,0.9]],\n",
        "                                             evidence=['winter'], evidence_card=[2], \n",
        "                                             state_names={\"rain\": [True, False], \"winter\": [True, False]})\n",
        "wg_given_rain_sprinkler_cpd = TabularCPD('wet grass',2,[[0.95,0.8,.9,0],\n",
        "                                                        [0.05,0.2,.1,1]],\n",
        "                                                        evidence=['rain', 'sprinkler'], evidence_card=[2,2], \n",
        "                                                        state_names={\"wet grass\": [True, False], \"rain\": [True, False], \"sprinkler\": [True, False]})\n",
        "slippery_road_given_rain_cpd = TabularCPD('slippery road',2,[[0.7,0],\n",
        "                                                             [0.3,1]],\n",
        "                                                             evidence=['rain'], evidence_card=[2], \n",
        "                                                            state_names={\"rain\": [True, False], \"slippery road\": [True, False]})\n",
        "all_cpds = [slippery_road_given_rain_cpd, wg_given_rain_sprinkler_cpd, rain_given_winter_cpd, sprinkler_given_winter_cpd, winter_cpd]\n",
        "\n",
        "  "
      ],
      "execution_count": 37,
      "outputs": []
    },
    {
      "cell_type": "code",
      "metadata": {
        "id": "Yn-JMP0NYMtq"
      },
      "source": [
        "# Class will use the BayesianModel class from PGMPY \n",
        "bayes_network = BayesianModel(edges)\n",
        "bayes_network.add_cpds(*all_cpds)"
      ],
      "execution_count": 38,
      "outputs": []
    },
    {
      "cell_type": "code",
      "metadata": {
        "id": "fgQ0rbzsc4oN",
        "colab": {
          "base_uri": "https://localhost:8080/"
        },
        "outputId": "c0a8e876-77b2-43d7-ca13-7e2657bc002e"
      },
      "source": [
        "class Inference():\n",
        "\n",
        "  def __init__(self, model):\n",
        "\n",
        "    # Check if the model is an instance of BayesianModel\n",
        "    if not isinstance(model, BayesianModel):\n",
        "      raise ValueError(f\"Model is a {type(model)} instance, not BayesianModel\")\n",
        "    else:\n",
        "      self.model = model \n",
        "    self.cpds = model.get_cpds()\n",
        "    self.joint_distribution = self.make_full_joint_distribution(self.cpds)\n",
        "\n",
        "  def make_full_joint_distribution(self, cpds):\n",
        "    # The joint distribution of the model is a probability table with all the \n",
        "    # variables in the model. Use DiscreteFactor\n",
        "    phi1 = cpds[-1].to_factor()\n",
        "    for cpd in cpds[:-1]:\n",
        "      phi1.product(cpd.to_factor(), inplace=True)\n",
        "    return phi1\n",
        "\n",
        "  def query(self, query_variables=[], evidence={}):\n",
        "    # Return the joint distribution if there is no query\n",
        "    if not query_variables:\n",
        "      return self.joint_distribution\n",
        "    else:\n",
        "      # Make sure the query variables are in the model\n",
        "      for variable in query_variables:\n",
        "        if variable not in self.model.nodes:\n",
        "          raise ValueError(f\"{variable} is not in the model\")\n",
        "\n",
        "    # Loop through the nodes to find ones not in query variables and evidence \n",
        "    # e.g. P(Y|X1) is the marginal sum of of all the variables in the model that \n",
        "    # are not Y and X1.\n",
        "    non_query_variables = []\n",
        "    for var in self.model.nodes: \n",
        "      if var not in query_variables and var not in evidence.keys():\n",
        "        non_query_variables.append(var)\n",
        "\n",
        "    # DiscreteFactor.reduce takes in values [(state, value), ....]\n",
        "    evidence_list = [(state,val) for state,val in evidence.items()]\n",
        "    # Collapse the full joint distribution on the evidence variables \n",
        "    reduced_factor = self.joint_distribution.reduce(evidence_list, inplace=False)\n",
        "    # Marginzalize on the none query variables \n",
        "    marginal_factor = reduced_factor.marginalize(non_query_variables, inplace=False)\n",
        "    return marginal_factor.normalize(inplace=False)\n",
        "\n",
        "# Make an example inference to check with PGMPY Model\n",
        "infer = Inference(model=bayes_network)\n",
        "query = infer.query(['winter'], evidence={'rain':True, 'slippery road': False})\n",
        "print(query)"
      ],
      "execution_count": 61,
      "outputs": [
        {
          "output_type": "stream",
          "text": [
            "+---------------+---------------+\n",
            "| winter        |   phi(winter) |\n",
            "+===============+===============+\n",
            "| winter(True)  |        0.9231 |\n",
            "+---------------+---------------+\n",
            "| winter(False) |        0.0769 |\n",
            "+---------------+---------------+\n"
          ],
          "name": "stdout"
        }
      ]
    },
    {
      "cell_type": "code",
      "metadata": {
        "id": "cLDEFzpwdFYF",
        "colab": {
          "base_uri": "https://localhost:8080/"
        },
        "outputId": "a21e34bd-39b8-4633-9a9d-00424e8810eb"
      },
      "source": [
        "# Test custom class against PGMPY class\n",
        "infer_pgmpy = VariableElimination(bayes_network)\n",
        "query_pgmpy = infer_pgmpy.query(['winter'], evidence={'rain':True, 'slippery road': True})\n",
        "print(query_pgmpy)"
      ],
      "execution_count": 63,
      "outputs": [
        {
          "output_type": "stream",
          "text": [
            "Finding Elimination Order: : 100%|██████████| 2/2 [00:00<00:00, 848.11it/s]\n",
            "Eliminating: wet grass: 100%|██████████| 2/2 [00:00<00:00, 408.52it/s]"
          ],
          "name": "stderr"
        },
        {
          "output_type": "stream",
          "text": [
            "+---------------+---------------+\n",
            "| winter        |   phi(winter) |\n",
            "+===============+===============+\n",
            "| winter(True)  |        0.9231 |\n",
            "+---------------+---------------+\n",
            "| winter(False) |        0.0769 |\n",
            "+---------------+---------------+\n"
          ],
          "name": "stdout"
        },
        {
          "output_type": "stream",
          "text": [
            "\n"
          ],
          "name": "stderr"
        }
      ]
    },
    {
      "cell_type": "code",
      "metadata": {
        "id": "4mKjnGG6Ptam"
      },
      "source": [
        "# Results are the same "
      ],
      "execution_count": 64,
      "outputs": []
    },
    {
      "cell_type": "code",
      "metadata": {
        "id": "juNf8iO5kmo6"
      },
      "source": [
        ""
      ],
      "execution_count": null,
      "outputs": []
    }
  ]
}